{
 "cells": [
  {
   "cell_type": "markdown",
   "metadata": {},
   "source": [
    "Custom ChatGPT with Langchain"
   ]
  },
  {
   "cell_type": "code",
   "execution_count": 2,
   "metadata": {},
   "outputs": [
    {
     "data": {
      "text/plain": [
       "True"
      ]
     },
     "execution_count": 2,
     "metadata": {},
     "output_type": "execute_result"
    }
   ],
   "source": [
    "from dotenv import load_dotenv, find_dotenv\n",
    "load_dotenv(find_dotenv(), override=True)"
   ]
  },
  {
   "cell_type": "code",
   "execution_count": 13,
   "metadata": {},
   "outputs": [],
   "source": [
    "from langchain.chat_models import ChatOpenAI\n",
    "from langchain.schema import SystemMessage\n",
    "from langchain.chains import LLMChain \n",
    "from langchain.prompts import ChatPromptTemplate, HumanMessagePromptTemplate, MessagesPlaceholder\n",
    "from langchain.memory import ConversationBufferMemory, FileChatMessageHistory"
   ]
  },
  {
   "cell_type": "code",
   "execution_count": 14,
   "metadata": {},
   "outputs": [
    {
     "name": "stdout",
     "output_type": "stream",
     "text": [
      "\n",
      "\n",
      "\u001b[1m> Entering new LLMChain chain...\u001b[0m\n",
      "Prompt after formatting:\n",
      "\u001b[32;1m\u001b[1;3mSystem: You are Google\n",
      "Human: Speed of light in vaccum ?\u001b[0m\n",
      "\n",
      "\u001b[1m> Finished chain.\u001b[0m\n",
      "The speed of light in a vacuum is approximately 299,792,458 meters per second (or about 186,282 miles per second).\n",
      "--------------------------------------------------\n",
      "\n",
      "\n",
      "\u001b[1m> Entering new LLMChain chain...\u001b[0m\n",
      "Prompt after formatting:\n",
      "\u001b[32;1m\u001b[1;3mSystem: You are Google\n",
      "Human: Speed of light in vaccum ?\n",
      "AI: The speed of light in a vacuum is approximately 299,792,458 meters per second (or about 186,282 miles per second).\n",
      "Human: Speed of light in black hole ?\u001b[0m\n",
      "\n",
      "\u001b[1m> Finished chain.\u001b[0m\n",
      "In general relativity, the speed of light is still considered to be constant in a vacuum, which is approximately 299,792,458 meters per second. However, inside the event horizon of a black hole, spacetime is extremely distorted, and the effects of gravity become significant. As a result, the concept of \"speed\" as we understand it breaks down, and it becomes challenging to define the speed of light within a black hole accurately.\n",
      "--------------------------------------------------\n",
      "\n",
      "\n",
      "\u001b[1m> Entering new LLMChain chain...\u001b[0m\n",
      "Prompt after formatting:\n",
      "\u001b[32;1m\u001b[1;3mSystem: You are Google\n",
      "Human: Speed of light in vaccum ?\n",
      "AI: The speed of light in a vacuum is approximately 299,792,458 meters per second (or about 186,282 miles per second).\n",
      "Human: Speed of light in black hole ?\n",
      "AI: In general relativity, the speed of light is still considered to be constant in a vacuum, which is approximately 299,792,458 meters per second. However, inside the event horizon of a black hole, spacetime is extremely distorted, and the effects of gravity become significant. As a result, the concept of \"speed\" as we understand it breaks down, and it becomes challenging to define the speed of light within a black hole accurately.\n",
      "Human: what about light in the core of the earth ?\u001b[0m\n",
      "\n",
      "\u001b[1m> Finished chain.\u001b[0m\n",
      "Inside the core of the Earth, the speed of light is slightly slower than its speed in a vacuum. This is because the Earth's core is composed of dense materials, such as molten iron and nickel, which have a refractive index greater than 1. The refractive index is a measure of how much a material slows down the speed of light compared to its speed in a vacuum.\n",
      "\n",
      "The exact speed of light in the core of the Earth depends on the specific composition and conditions, but it is typically around 8% slower than the speed of light in a vacuum. This means that light travels at approximately 273,000 kilometers per second (or about 169,633 miles per second) in the core of the Earth.\n",
      "--------------------------------------------------\n",
      "Good Bye\n"
     ]
    }
   ],
   "source": [
    "llm = ChatOpenAI(\n",
    "    model='gpt-3.5-turbo',\n",
    "    temperature=0.7\n",
    ")\n",
    "\n",
    "history = FileChatMessageHistory('chat_history.json')\n",
    "\n",
    "## memory object\n",
    "memory = ConversationBufferMemory(\n",
    "    memory_key='chat_history',\n",
    "    chat_memory=history,\n",
    "    return_messages=True \n",
    ")\n",
    "\n",
    "prompt = ChatPromptTemplate(\n",
    "    input_variables=['content'],\n",
    "    messages=[\n",
    "        SystemMessage(content='You are Google'),\n",
    "        MessagesPlaceholder(variable_name='chat_history'),\n",
    "        HumanMessagePromptTemplate.from_template('{content}')\n",
    "    ]\n",
    ")\n",
    "\n",
    "chain = LLMChain(\n",
    "    llm=llm,\n",
    "    prompt=prompt,\n",
    "    memory=memory,\n",
    "    verbose=True\n",
    ")\n",
    "\n",
    "while True:\n",
    "    content = input('Your prompt:')\n",
    "    if content in ['quit','bye','exit']:\n",
    "        print('Good Bye')\n",
    "        break \n",
    "    response = chain.run({'content':content})\n",
    "    print(response)\n",
    "    print('-'*50)"
   ]
  },
  {
   "cell_type": "code",
   "execution_count": null,
   "metadata": {},
   "outputs": [],
   "source": []
  }
 ],
 "metadata": {
  "kernelspec": {
   "display_name": "base",
   "language": "python",
   "name": "python3"
  },
  "language_info": {
   "codemirror_mode": {
    "name": "ipython",
    "version": 3
   },
   "file_extension": ".py",
   "mimetype": "text/x-python",
   "name": "python",
   "nbconvert_exporter": "python",
   "pygments_lexer": "ipython3",
   "version": "3.9.17"
  }
 },
 "nbformat": 4,
 "nbformat_minor": 2
}
